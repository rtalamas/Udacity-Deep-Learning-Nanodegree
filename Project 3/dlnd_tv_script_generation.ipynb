{
 "cells": [
  {
   "cell_type": "markdown",
   "metadata": {
    "deletable": true,
    "editable": true
   },
   "source": [
    "# TV Script Generation\n",
    "In this project, you'll generate your own [Simpsons](https://en.wikipedia.org/wiki/The_Simpsons) TV scripts using RNNs.  You'll be using part of the [Simpsons dataset](https://www.kaggle.com/wcukierski/the-simpsons-by-the-data) of scripts from 27 seasons.  The Neural Network you'll build will generate a new TV script for a scene at [Moe's Tavern](https://simpsonswiki.com/wiki/Moe's_Tavern).\n",
    "## Get the Data\n",
    "The data is already provided for you.  You'll be using a subset of the original dataset.  It consists of only the scenes in Moe's Tavern.  This doesn't include other versions of the tavern, like \"Moe's Cavern\", \"Flaming Moe's\", \"Uncle Moe's Family Feed-Bag\", etc.."
   ]
  },
  {
   "cell_type": "code",
   "execution_count": 1,
   "metadata": {
    "collapsed": true,
    "deletable": true,
    "editable": true
   },
   "outputs": [],
   "source": [
    "\"\"\"\n",
    "DON'T MODIFY ANYTHING IN THIS CELL\n",
    "\"\"\"\n",
    "import helper\n",
    "\n",
    "data_dir = './data/simpsons/moes_tavern_lines.txt'\n",
    "text = helper.load_data(data_dir)\n",
    "# Ignore notice, since we don't use it for analysing the data\n",
    "text = text[81:]"
   ]
  },
  {
   "cell_type": "markdown",
   "metadata": {
    "deletable": true,
    "editable": true
   },
   "source": [
    "## Explore the Data\n",
    "Play around with `view_sentence_range` to view different parts of the data."
   ]
  },
  {
   "cell_type": "code",
   "execution_count": 2,
   "metadata": {
    "collapsed": false,
    "deletable": true,
    "editable": true
   },
   "outputs": [
    {
     "name": "stdout",
     "output_type": "stream",
     "text": [
      "Dataset Stats\n",
      "Roughly the number of unique words: 11492\n",
      "Number of scenes: 262\n",
      "Average number of sentences in each scene: 15.248091603053435\n",
      "Number of lines: 4257\n",
      "Average number of words in each line: 11.50434578341555\n",
      "\n",
      "The sentences 0 to 10:\n",
      "Moe_Szyslak: (INTO PHONE) Moe's Tavern. Where the elite meet to drink.\n",
      "Bart_Simpson: Eh, yeah, hello, is Mike there? Last name, Rotch.\n",
      "Moe_Szyslak: (INTO PHONE) Hold on, I'll check. (TO BARFLIES) Mike Rotch. Mike Rotch. Hey, has anybody seen Mike Rotch, lately?\n",
      "Moe_Szyslak: (INTO PHONE) Listen you little puke. One of these days I'm gonna catch you, and I'm gonna carve my name on your back with an ice pick.\n",
      "Moe_Szyslak: What's the matter Homer? You're not your normal effervescent self.\n",
      "Homer_Simpson: I got my problems, Moe. Give me another one.\n",
      "Moe_Szyslak: Homer, hey, you should not drink to forget your problems.\n",
      "Barney_Gumble: Yeah, you should only drink to enhance your social skills.\n",
      "\n",
      "\n"
     ]
    }
   ],
   "source": [
    "view_sentence_range = (0, 10)\n",
    "\n",
    "\"\"\"\n",
    "DON'T MODIFY ANYTHING IN THIS CELL\n",
    "\"\"\"\n",
    "import numpy as np\n",
    "\n",
    "print('Dataset Stats')\n",
    "print('Roughly the number of unique words: {}'.format(len({word: None for word in text.split()})))\n",
    "scenes = text.split('\\n\\n')\n",
    "print('Number of scenes: {}'.format(len(scenes)))\n",
    "sentence_count_scene = [scene.count('\\n') for scene in scenes]\n",
    "print('Average number of sentences in each scene: {}'.format(np.average(sentence_count_scene)))\n",
    "\n",
    "sentences = [sentence for scene in scenes for sentence in scene.split('\\n')]\n",
    "print('Number of lines: {}'.format(len(sentences)))\n",
    "word_count_sentence = [len(sentence.split()) for sentence in sentences]\n",
    "print('Average number of words in each line: {}'.format(np.average(word_count_sentence)))\n",
    "\n",
    "print()\n",
    "print('The sentences {} to {}:'.format(*view_sentence_range))\n",
    "print('\\n'.join(text.split('\\n')[view_sentence_range[0]:view_sentence_range[1]]))"
   ]
  },
  {
   "cell_type": "markdown",
   "metadata": {
    "deletable": true,
    "editable": true
   },
   "source": [
    "## Implement Preprocessing Functions\n",
    "The first thing to do to any dataset is preprocessing.  Implement the following preprocessing functions below:\n",
    "- Lookup Table\n",
    "- Tokenize Punctuation\n",
    "\n",
    "### Lookup Table\n",
    "To create a word embedding, you first need to transform the words to ids.  In this function, create two dictionaries:\n",
    "- Dictionary to go from the words to an id, we'll call `vocab_to_int`\n",
    "- Dictionary to go from the id to word, we'll call `int_to_vocab`\n",
    "\n",
    "Return these dictionaries in the following tuple `(vocab_to_int, int_to_vocab)`"
   ]
  },
  {
   "cell_type": "code",
   "execution_count": 3,
   "metadata": {
    "collapsed": false,
    "deletable": true,
    "editable": true
   },
   "outputs": [
    {
     "name": "stdout",
     "output_type": "stream",
     "text": [
      "Tests Passed\n"
     ]
    }
   ],
   "source": [
    "import numpy as np\n",
    "import problem_unittests as tests\n",
    "\n",
    "def create_lookup_tables(text):\n",
    "    \"\"\"\n",
    "    Create lookup tables for vocabulary\n",
    "    :param text: The text of tv scripts split into words\n",
    "    :return: A tuple of dicts (vocab_to_int, int_to_vocab)\n",
    "    \"\"\"\n",
    "    # TODO: Implement Function\n",
    "    vocab = set(text)\n",
    "    vocab_to_int = {word : i for i, word in enumerate(vocab)}\n",
    "    int_to_vocab = dict(enumerate(vocab))\n",
    "    \n",
    "    return (vocab_to_int, int_to_vocab) \n",
    "\n",
    "\"\"\"\n",
    "DON'T MODIFY ANYTHING IN THIS CELL THAT IS BELOW THIS LINE\n",
    "\"\"\"\n",
    "tests.test_create_lookup_tables(create_lookup_tables)"
   ]
  },
  {
   "cell_type": "markdown",
   "metadata": {
    "deletable": true,
    "editable": true
   },
   "source": [
    "### Tokenize Punctuation\n",
    "We'll be splitting the script into a word array using spaces as delimiters.  However, punctuations like periods and exclamation marks make it hard for the neural network to distinguish between the word \"bye\" and \"bye!\".\n",
    "\n",
    "Implement the function `token_lookup` to return a dict that will be used to tokenize symbols like \"!\" into \"||Exclamation_Mark||\".  Create a dictionary for the following symbols where the symbol is the key and value is the token:\n",
    "- Period ( . )\n",
    "- Comma ( , )\n",
    "- Quotation Mark ( \" )\n",
    "- Semicolon ( ; )\n",
    "- Exclamation mark ( ! )\n",
    "- Question mark ( ? )\n",
    "- Left Parentheses ( ( )\n",
    "- Right Parentheses ( ) )\n",
    "- Dash ( -- )\n",
    "- Return ( \\n )\n",
    "\n",
    "This dictionary will be used to token the symbols and add the delimiter (space) around it.  This separates the symbols as it's own word, making it easier for the neural network to predict on the next word. Make sure you don't use a token that could be confused as a word. Instead of using the token \"dash\", try using something like \"||dash||\"."
   ]
  },
  {
   "cell_type": "code",
   "execution_count": 8,
   "metadata": {
    "collapsed": false,
    "deletable": true,
    "editable": true
   },
   "outputs": [
    {
     "name": "stdout",
     "output_type": "stream",
     "text": [
      "Tests Passed\n"
     ]
    }
   ],
   "source": [
    "def token_lookup():\n",
    "    \"\"\"\n",
    "    Generate a dict to turn punctuation into a token.\n",
    "    :return: Tokenize dictionary where the key is the punctuation and the value is the token\n",
    "    \"\"\"\n",
    "    # TODO: Implement Function\n",
    "    # Tokenized punctuation dictionary\n",
    "    token_dict = {'.' : '||Period||',\n",
    "                 ',' : '||Comma||',\n",
    "                 '\"' : '||Quotation_Mark||',\n",
    "                 ';' : '||Semicolon||', \n",
    "                 '!' : '||Exclamation_Mark||', \n",
    "                 '?' : '||Question_Mark||', \n",
    "                 '(' : '||Left_Parenthesis||', \n",
    "                 ')' : '||Right_Parenthesis||', \n",
    "                 '--' : '||Dash||',\n",
    "                 '\\n' : '||Return||'}\n",
    "    \n",
    "    return token_dict\n",
    "\n",
    "\"\"\"\n",
    "DON'T MODIFY ANYTHING IN THIS CELL THAT IS BELOW THIS LINE\n",
    "\"\"\"\n",
    "tests.test_tokenize(token_lookup)"
   ]
  },
  {
   "cell_type": "markdown",
   "metadata": {
    "deletable": true,
    "editable": true
   },
   "source": [
    "## Preprocess all the data and save it\n",
    "Running the code cell below will preprocess all the data and save it to file."
   ]
  },
  {
   "cell_type": "code",
   "execution_count": 9,
   "metadata": {
    "collapsed": true,
    "deletable": true,
    "editable": true
   },
   "outputs": [],
   "source": [
    "\"\"\"\n",
    "DON'T MODIFY ANYTHING IN THIS CELL\n",
    "\"\"\"\n",
    "# Preprocess Training, Validation, and Testing Data\n",
    "helper.preprocess_and_save_data(data_dir, token_lookup, create_lookup_tables)"
   ]
  },
  {
   "cell_type": "markdown",
   "metadata": {
    "deletable": true,
    "editable": true
   },
   "source": [
    "# Check Point\n",
    "This is your first checkpoint. If you ever decide to come back to this notebook or have to restart the notebook, you can start from here. The preprocessed data has been saved to disk."
   ]
  },
  {
   "cell_type": "code",
   "execution_count": 10,
   "metadata": {
    "collapsed": true,
    "deletable": true,
    "editable": true
   },
   "outputs": [],
   "source": [
    "\"\"\"\n",
    "DON'T MODIFY ANYTHING IN THIS CELL\n",
    "\"\"\"\n",
    "import helper\n",
    "import numpy as np\n",
    "import problem_unittests as tests\n",
    "\n",
    "int_text, vocab_to_int, int_to_vocab, token_dict = helper.load_preprocess()"
   ]
  },
  {
   "cell_type": "markdown",
   "metadata": {
    "deletable": true,
    "editable": true
   },
   "source": [
    "## Build the Neural Network\n",
    "You'll build the components necessary to build a RNN by implementing the following functions below:\n",
    "- get_inputs\n",
    "- get_init_cell\n",
    "- get_embed\n",
    "- build_rnn\n",
    "- build_nn\n",
    "- get_batches\n",
    "\n",
    "### Check the Version of TensorFlow and Access to GPU"
   ]
  },
  {
   "cell_type": "code",
   "execution_count": 11,
   "metadata": {
    "collapsed": false,
    "deletable": true,
    "editable": true
   },
   "outputs": [
    {
     "name": "stdout",
     "output_type": "stream",
     "text": [
      "TensorFlow Version: 1.0.0\n",
      "Default GPU Device: /gpu:0\n"
     ]
    }
   ],
   "source": [
    "\"\"\"\n",
    "DON'T MODIFY ANYTHING IN THIS CELL\n",
    "\"\"\"\n",
    "from distutils.version import LooseVersion\n",
    "import warnings\n",
    "import tensorflow as tf\n",
    "\n",
    "# Check TensorFlow Version\n",
    "assert LooseVersion(tf.__version__) >= LooseVersion('1.0'), 'Please use TensorFlow version 1.0 or newer'\n",
    "print('TensorFlow Version: {}'.format(tf.__version__))\n",
    "\n",
    "# Check for a GPU\n",
    "if not tf.test.gpu_device_name():\n",
    "    warnings.warn('No GPU found. Please use a GPU to train your neural network.')\n",
    "else:\n",
    "    print('Default GPU Device: {}'.format(tf.test.gpu_device_name()))"
   ]
  },
  {
   "cell_type": "markdown",
   "metadata": {
    "deletable": true,
    "editable": true
   },
   "source": [
    "### Input\n",
    "Implement the `get_inputs()` function to create TF Placeholders for the Neural Network.  It should create the following placeholders:\n",
    "- Input text placeholder named \"input\" using the [TF Placeholder](https://www.tensorflow.org/api_docs/python/tf/placeholder) `name` parameter.\n",
    "- Targets placeholder\n",
    "- Learning Rate placeholder\n",
    "\n",
    "Return the placeholders in the following tuple `(Input, Targets, LearningRate)`"
   ]
  },
  {
   "cell_type": "code",
   "execution_count": 13,
   "metadata": {
    "collapsed": false,
    "deletable": true,
    "editable": true
   },
   "outputs": [
    {
     "name": "stdout",
     "output_type": "stream",
     "text": [
      "Tests Passed\n"
     ]
    }
   ],
   "source": [
    "def get_inputs():\n",
    "    \"\"\"\n",
    "    Create TF Placeholders for input, targets, and learning rate.\n",
    "    :return: Tuple (input, targets, learning rate)\n",
    "    \"\"\"\n",
    "    # TODO: Implement Function\n",
    "    Inputs = tf.placeholder(tf.int32, shape=[None, None], name='input')\n",
    "    Targets = tf.placeholder(tf.int32, shape=[None, None], name='targets')\n",
    "    LearningRate = tf.placeholder(tf.float32, name='learning_rate')\n",
    "    \n",
    "    return Inputs, Targets, LearningRate\n",
    "\n",
    "\n",
    "\"\"\"\n",
    "DON'T MODIFY ANYTHING IN THIS CELL THAT IS BELOW THIS LINE\n",
    "\"\"\"\n",
    "tests.test_get_inputs(get_inputs)"
   ]
  },
  {
   "cell_type": "markdown",
   "metadata": {
    "deletable": true,
    "editable": true
   },
   "source": [
    "### Build RNN Cell and Initialize\n",
    "Stack one or more [`BasicLSTMCells`](https://www.tensorflow.org/api_docs/python/tf/contrib/rnn/BasicLSTMCell) in a [`MultiRNNCell`](https://www.tensorflow.org/api_docs/python/tf/contrib/rnn/MultiRNNCell).\n",
    "- The Rnn size should be set using `rnn_size`\n",
    "- Initalize Cell State using the MultiRNNCell's [`zero_state()`](https://www.tensorflow.org/api_docs/python/tf/contrib/rnn/MultiRNNCell#zero_state) function\n",
    "    - Apply the name \"initial_state\" to the initial state using [`tf.identity()`](https://www.tensorflow.org/api_docs/python/tf/identity)\n",
    "\n",
    "Return the cell and initial state in the following tuple `(Cell, InitialState)`"
   ]
  },
  {
   "cell_type": "code",
   "execution_count": 15,
   "metadata": {
    "collapsed": false,
    "deletable": true,
    "editable": true
   },
   "outputs": [
    {
     "name": "stdout",
     "output_type": "stream",
     "text": [
      "Tests Passed\n"
     ]
    }
   ],
   "source": [
    "def get_init_cell(batch_size, rnn_size):\n",
    "    \"\"\"\n",
    "    Create an RNN Cell and initialize it.\n",
    "    :param batch_size: Size of batches\n",
    "    :param rnn_size: Size of RNNs\n",
    "    :return: Tuple (cell, initialize state)\n",
    "    \"\"\"\n",
    "    # TODO: Implement Function\n",
    "    num_layers = 2\n",
    "    Lstm = tf.contrib.rnn.BasicLSTMCell(rnn_size)\n",
    "    Cell = tf.contrib.rnn.MultiRNNCell([Lstm] * num_layers)\n",
    "    InitialState = tf.identity(Cell.zero_state(batch_size, tf.float32), name='initial_state')\n",
    "    \n",
    "    \n",
    "    return Cell, InitialState\n",
    "\n",
    "\n",
    "\"\"\"\n",
    "DON'T MODIFY ANYTHING IN THIS CELL THAT IS BELOW THIS LINE\n",
    "\"\"\"\n",
    "tests.test_get_init_cell(get_init_cell)"
   ]
  },
  {
   "cell_type": "markdown",
   "metadata": {
    "deletable": true,
    "editable": true
   },
   "source": [
    "### Word Embedding\n",
    "Apply embedding to `input_data` using TensorFlow.  Return the embedded sequence."
   ]
  },
  {
   "cell_type": "code",
   "execution_count": 19,
   "metadata": {
    "collapsed": false,
    "deletable": true,
    "editable": true
   },
   "outputs": [
    {
     "name": "stdout",
     "output_type": "stream",
     "text": [
      "Tests Passed\n"
     ]
    }
   ],
   "source": [
    "def get_embed(input_data, vocab_size, embed_dim):\n",
    "    \"\"\"\n",
    "    Create embedding for <input_data>.\n",
    "    :param input_data: TF placeholder for text input.\n",
    "    :param vocab_size: Number of words in vocabulary.\n",
    "    :param embed_dim: Number of embedding dimensions\n",
    "    :return: Embedded input.\n",
    "    \"\"\"\n",
    "    # TODO: Implement Function\n",
    "    embedding = tf.Variable(tf.random_uniform((vocab_size, embed_dim), -1, 1))\n",
    "    embed = tf.nn.embedding_lookup(embedding, input_data)\n",
    "    \n",
    "    return embed\n",
    "\n",
    "\n",
    "\"\"\"\n",
    "DON'T MODIFY ANYTHING IN THIS CELL THAT IS BELOW THIS LINE\n",
    "\"\"\"\n",
    "tests.test_get_embed(get_embed)"
   ]
  },
  {
   "cell_type": "markdown",
   "metadata": {
    "deletable": true,
    "editable": true
   },
   "source": [
    "### Build RNN\n",
    "You created a RNN Cell in the `get_init_cell()` function.  Time to use the cell to create a RNN.\n",
    "- Build the RNN using the [`tf.nn.dynamic_rnn()`](https://www.tensorflow.org/api_docs/python/tf/nn/dynamic_rnn)\n",
    " - Apply the name \"final_state\" to the final state using [`tf.identity()`](https://www.tensorflow.org/api_docs/python/tf/identity)\n",
    "\n",
    "Return the outputs and final_state state in the following tuple `(Outputs, FinalState)` "
   ]
  },
  {
   "cell_type": "code",
   "execution_count": 21,
   "metadata": {
    "collapsed": false,
    "deletable": true,
    "editable": true
   },
   "outputs": [
    {
     "name": "stdout",
     "output_type": "stream",
     "text": [
      "Tests Passed\n"
     ]
    }
   ],
   "source": [
    "def build_rnn(cell, inputs):\n",
    "    \"\"\"\n",
    "    Create a RNN using a RNN Cell\n",
    "    :param cell: RNN Cell\n",
    "    :param inputs: Input text data\n",
    "    :return: Tuple (Outputs, Final State)\n",
    "    \"\"\"\n",
    "    # TODO: Implement Function\n",
    "    Outputs, FinalState = tf.nn.dynamic_rnn(cell, inputs, dtype=tf.float32)\n",
    "    FinalState = tf.identity(FinalState, name='final_state')\n",
    "    \n",
    "    return (Outputs, FinalState)\n",
    "\n",
    "\n",
    "\"\"\"\n",
    "DON'T MODIFY ANYTHING IN THIS CELL THAT IS BELOW THIS LINE\n",
    "\"\"\"\n",
    "tests.test_build_rnn(build_rnn)"
   ]
  },
  {
   "cell_type": "markdown",
   "metadata": {
    "deletable": true,
    "editable": true
   },
   "source": [
    "### Build the Neural Network\n",
    "Apply the functions you implemented above to:\n",
    "- Apply embedding to `input_data` using your `get_embed(input_data, vocab_size, embed_dim)` function.\n",
    "- Build RNN using `cell` and your `build_rnn(cell, inputs)` function.\n",
    "- Apply a fully connected layer with a linear activation and `vocab_size` as the number of outputs.\n",
    "\n",
    "Return the logits and final state in the following tuple (Logits, FinalState) "
   ]
  },
  {
   "cell_type": "code",
   "execution_count": 23,
   "metadata": {
    "collapsed": false,
    "deletable": true,
    "editable": true
   },
   "outputs": [
    {
     "name": "stdout",
     "output_type": "stream",
     "text": [
      "Tests Passed\n"
     ]
    }
   ],
   "source": [
    "def build_nn(cell, rnn_size, input_data, vocab_size, embed_dim):\n",
    "    \"\"\"\n",
    "    Build part of the neural network\n",
    "    :param cell: RNN cell\n",
    "    :param rnn_size: Size of rnns\n",
    "    :param input_data: Input data\n",
    "    :param vocab_size: Vocabulary size\n",
    "    :param embed_dim: Number of embedding dimensions\n",
    "    :return: Tuple (Logits, FinalState)\n",
    "    \"\"\"\n",
    "    # TODO: Implement Function\n",
    "    # Apply embeddings to input_data\n",
    "    embeddings = get_embed(input_data, vocab_size, embed_dim)\n",
    "    \n",
    "    # Build RNN\n",
    "    Output, FinalState = build_rnn(cell, embeddings)\n",
    "    \n",
    "    # Apply fully connected layer\n",
    "    Logits = tf.contrib.layers.fully_connected(Output, vocab_size, activation_fn=None)\n",
    "    \n",
    "    return (Logits, FinalState)\n",
    "\n",
    "\n",
    "\"\"\"\n",
    "DON'T MODIFY ANYTHING IN THIS CELL THAT IS BELOW THIS LINE\n",
    "\"\"\"\n",
    "tests.test_build_nn(build_nn)"
   ]
  },
  {
   "cell_type": "markdown",
   "metadata": {
    "deletable": true,
    "editable": true
   },
   "source": [
    "### Batches\n",
    "Implement `get_batches` to create batches of input and targets using `int_text`.  The batches should be a Numpy array with the shape `(number of batches, 2, batch size, sequence length)`. Each batch contains two elements:\n",
    "- The first element is a single batch of **input** with the shape `[batch size, sequence length]`\n",
    "- The second element is a single batch of **targets** with the shape `[batch size, sequence length]`\n",
    "\n",
    "If you can't fill the last batch with enough data, drop the last batch.\n",
    "\n",
    "For exmple, `get_batches([1, 2, 3, 4, 5, 6, 7, 8, 9, 10, 11, 12, 13, 14, 15, 16, 17, 18, 19, 20], 3, 2)` would return a Numpy array of the following:\n",
    "```\n",
    "[\n",
    "  # First Batch\n",
    "  [\n",
    "    # Batch of Input\n",
    "    [[ 1  2], [ 7  8], [13 14]]\n",
    "    # Batch of targets\n",
    "    [[ 2  3], [ 8  9], [14 15]]\n",
    "  ]\n",
    "\n",
    "  # Second Batch\n",
    "  [\n",
    "    # Batch of Input\n",
    "    [[ 3  4], [ 9 10], [15 16]]\n",
    "    # Batch of targets\n",
    "    [[ 4  5], [10 11], [16 17]]\n",
    "  ]\n",
    "\n",
    "  # Third Batch\n",
    "  [\n",
    "    # Batch of Input\n",
    "    [[ 5  6], [11 12], [17 18]]\n",
    "    # Batch of targets\n",
    "    [[ 6  7], [12 13], [18  1]]\n",
    "  ]\n",
    "]\n",
    "```\n",
    "\n",
    "Notice that the last target value in the last batch is the first input value of the first batch. In this case, `1`. This is a common technique used when creating sequence batches, although it is rather unintuitive."
   ]
  },
  {
   "cell_type": "code",
   "execution_count": 48,
   "metadata": {
    "collapsed": false,
    "deletable": true,
    "editable": true
   },
   "outputs": [
    {
     "name": "stdout",
     "output_type": "stream",
     "text": [
      "Tests Passed\n"
     ]
    }
   ],
   "source": [
    "def get_batches(int_text, batch_size, seq_length):\n",
    "    \"\"\"\n",
    "    Return batches of input and target\n",
    "    :param int_text: Text with the words replaced by their ids\n",
    "    :param batch_size: The size of batch\n",
    "    :param seq_length: The length of sequence\n",
    "    :return: Batches as a Numpy array\n",
    "    \"\"\"\n",
    "    # TODO: Implement Function\n",
    "    chars_per_batch = batch_size * seq_length\n",
    "    n_batches = len(int_text)//chars_per_batch\n",
    "    \n",
    "    # Keep only enough characters to make full batches\n",
    "    int_text = np.array(int_text)\n",
    "    int_text_x = int_text[:n_batches*chars_per_batch]\n",
    "    int_text_y = int_text[1:n_batches*chars_per_batch+1]\n",
    "    \n",
    "    # Reshape into n_seqs rows\n",
    "    int_text_x = int_text_x.reshape((batch_size, -1))\n",
    "    int_text_y = int_text_y.reshape((batch_size, -1))\n",
    "    \n",
    "    # Batches list\n",
    "    batches = []\n",
    "    \n",
    "    for n in range(0, int_text_x.shape[1], seq_length):\n",
    "        # Get sequence \n",
    "        x = int_text_x[:, n:n+seq_length]\n",
    "        y = int_text_y[:, n:n+seq_length]\n",
    "        \n",
    "        inputs = []\n",
    "        targets = []\n",
    "        for i in range(batch_size):\n",
    "            inputs.append(x[i])\n",
    "            targets.append(y[i])\n",
    "        \n",
    "        batches.append([inputs, targets])\n",
    "        \n",
    "    # Last target value in the last batch is the first input value of the first batch\n",
    "    batches[-1][-1][-1][-1] = batches[0][0][0][0]\n",
    "    \n",
    "    return np.array(batches)\n",
    "\n",
    "\n",
    "\"\"\"\n",
    "DON'T MODIFY ANYTHING IN THIS CELL THAT IS BELOW THIS LINE\n",
    "\"\"\"\n",
    "tests.test_get_batches(get_batches)"
   ]
  },
  {
   "cell_type": "markdown",
   "metadata": {
    "deletable": true,
    "editable": true
   },
   "source": [
    "## Neural Network Training\n",
    "### Hyperparameters\n",
    "Tune the following parameters:\n",
    "\n",
    "- Set `num_epochs` to the number of epochs.\n",
    "- Set `batch_size` to the batch size.\n",
    "- Set `rnn_size` to the size of the RNNs.\n",
    "- Set `embed_dim` to the size of the embedding.\n",
    "- Set `seq_length` to the length of sequence.\n",
    "- Set `learning_rate` to the learning rate.\n",
    "- Set `show_every_n_batches` to the number of batches the neural network should print progress."
   ]
  },
  {
   "cell_type": "code",
   "execution_count": 53,
   "metadata": {
    "collapsed": true,
    "deletable": true,
    "editable": true
   },
   "outputs": [],
   "source": [
    "# Number of Epochs\n",
    "num_epochs = 100\n",
    "# Batch Size\n",
    "batch_size = 128\n",
    "# RNN Size\n",
    "rnn_size = 256\n",
    "# Embedding Dimension Size\n",
    "embed_dim = 200\n",
    "# Sequence Length\n",
    "seq_length = 30\n",
    "# Learning Rate\n",
    "learning_rate = 0.01\n",
    "# Show stats for every n number of batches\n",
    "show_every_n_batches = 5\n",
    "\n",
    "\"\"\"\n",
    "DON'T MODIFY ANYTHING IN THIS CELL THAT IS BELOW THIS LINE\n",
    "\"\"\"\n",
    "save_dir = './save'"
   ]
  },
  {
   "cell_type": "markdown",
   "metadata": {
    "deletable": true,
    "editable": true
   },
   "source": [
    "### Build the Graph\n",
    "Build the graph using the neural network you implemented."
   ]
  },
  {
   "cell_type": "code",
   "execution_count": 54,
   "metadata": {
    "collapsed": true,
    "deletable": true,
    "editable": true
   },
   "outputs": [],
   "source": [
    "\"\"\"\n",
    "DON'T MODIFY ANYTHING IN THIS CELL\n",
    "\"\"\"\n",
    "from tensorflow.contrib import seq2seq\n",
    "\n",
    "train_graph = tf.Graph()\n",
    "with train_graph.as_default():\n",
    "    vocab_size = len(int_to_vocab)\n",
    "    input_text, targets, lr = get_inputs()\n",
    "    input_data_shape = tf.shape(input_text)\n",
    "    cell, initial_state = get_init_cell(input_data_shape[0], rnn_size)\n",
    "    logits, final_state = build_nn(cell, rnn_size, input_text, vocab_size, embed_dim)\n",
    "\n",
    "    # Probabilities for generating words\n",
    "    probs = tf.nn.softmax(logits, name='probs')\n",
    "\n",
    "    # Loss function\n",
    "    cost = seq2seq.sequence_loss(\n",
    "        logits,\n",
    "        targets,\n",
    "        tf.ones([input_data_shape[0], input_data_shape[1]]))\n",
    "\n",
    "    # Optimizer\n",
    "    optimizer = tf.train.AdamOptimizer(lr)\n",
    "\n",
    "    # Gradient Clipping\n",
    "    gradients = optimizer.compute_gradients(cost)\n",
    "    capped_gradients = [(tf.clip_by_value(grad, -1., 1.), var) for grad, var in gradients if grad is not None]\n",
    "    train_op = optimizer.apply_gradients(capped_gradients)"
   ]
  },
  {
   "cell_type": "markdown",
   "metadata": {
    "deletable": true,
    "editable": true
   },
   "source": [
    "## Train\n",
    "Train the neural network on the preprocessed data.  If you have a hard time getting a good loss, check the [forms](https://discussions.udacity.com/) to see if anyone is having the same problem."
   ]
  },
  {
   "cell_type": "code",
   "execution_count": 55,
   "metadata": {
    "collapsed": false,
    "deletable": true,
    "editable": true
   },
   "outputs": [
    {
     "name": "stdout",
     "output_type": "stream",
     "text": [
      "Epoch   0 Batch    0/17   train_loss = 8.821\n",
      "Epoch   0 Batch    5/17   train_loss = 6.677\n",
      "Epoch   0 Batch   10/17   train_loss = 6.906\n",
      "Epoch   0 Batch   15/17   train_loss = 6.726\n",
      "Epoch   1 Batch    3/17   train_loss = 6.272\n",
      "Epoch   1 Batch    8/17   train_loss = 6.152\n",
      "Epoch   1 Batch   13/17   train_loss = 6.261\n",
      "Epoch   2 Batch    1/17   train_loss = 6.201\n",
      "Epoch   2 Batch    6/17   train_loss = 6.243\n",
      "Epoch   2 Batch   11/17   train_loss = 6.311\n",
      "Epoch   2 Batch   16/17   train_loss = 6.128\n",
      "Epoch   3 Batch    4/17   train_loss = 6.128\n",
      "Epoch   3 Batch    9/17   train_loss = 6.022\n",
      "Epoch   3 Batch   14/17   train_loss = 6.102\n",
      "Epoch   4 Batch    2/17   train_loss = 5.995\n",
      "Epoch   4 Batch    7/17   train_loss = 6.066\n",
      "Epoch   4 Batch   12/17   train_loss = 5.816\n",
      "Epoch   5 Batch    0/17   train_loss = 5.852\n",
      "Epoch   5 Batch    5/17   train_loss = 5.772\n",
      "Epoch   5 Batch   10/17   train_loss = 5.890\n",
      "Epoch   5 Batch   15/17   train_loss = 5.713\n",
      "Epoch   6 Batch    3/17   train_loss = 5.798\n",
      "Epoch   6 Batch    8/17   train_loss = 5.811\n",
      "Epoch   6 Batch   13/17   train_loss = 5.766\n",
      "Epoch   7 Batch    1/17   train_loss = 5.715\n",
      "Epoch   7 Batch    6/17   train_loss = 5.650\n",
      "Epoch   7 Batch   11/17   train_loss = 5.767\n",
      "Epoch   7 Batch   16/17   train_loss = 5.574\n",
      "Epoch   8 Batch    4/17   train_loss = 5.667\n",
      "Epoch   8 Batch    9/17   train_loss = 5.504\n",
      "Epoch   8 Batch   14/17   train_loss = 5.531\n",
      "Epoch   9 Batch    2/17   train_loss = 5.417\n",
      "Epoch   9 Batch    7/17   train_loss = 5.441\n",
      "Epoch   9 Batch   12/17   train_loss = 5.290\n",
      "Epoch  10 Batch    0/17   train_loss = 5.183\n",
      "Epoch  10 Batch    5/17   train_loss = 5.119\n",
      "Epoch  10 Batch   10/17   train_loss = 5.171\n",
      "Epoch  10 Batch   15/17   train_loss = 4.956\n",
      "Epoch  11 Batch    3/17   train_loss = 5.053\n",
      "Epoch  11 Batch    8/17   train_loss = 4.982\n",
      "Epoch  11 Batch   13/17   train_loss = 4.963\n",
      "Epoch  12 Batch    1/17   train_loss = 4.856\n",
      "Epoch  12 Batch    6/17   train_loss = 4.796\n",
      "Epoch  12 Batch   11/17   train_loss = 4.838\n",
      "Epoch  12 Batch   16/17   train_loss = 4.662\n",
      "Epoch  13 Batch    4/17   train_loss = 4.687\n",
      "Epoch  13 Batch    9/17   train_loss = 4.575\n",
      "Epoch  13 Batch   14/17   train_loss = 4.513\n",
      "Epoch  14 Batch    2/17   train_loss = 4.462\n",
      "Epoch  14 Batch    7/17   train_loss = 4.532\n",
      "Epoch  14 Batch   12/17   train_loss = 4.360\n",
      "Epoch  15 Batch    0/17   train_loss = 4.281\n",
      "Epoch  15 Batch    5/17   train_loss = 4.224\n",
      "Epoch  15 Batch   10/17   train_loss = 4.358\n",
      "Epoch  15 Batch   15/17   train_loss = 4.119\n",
      "Epoch  16 Batch    3/17   train_loss = 4.266\n",
      "Epoch  16 Batch    8/17   train_loss = 4.213\n",
      "Epoch  16 Batch   13/17   train_loss = 4.151\n",
      "Epoch  17 Batch    1/17   train_loss = 4.083\n",
      "Epoch  17 Batch    6/17   train_loss = 4.033\n",
      "Epoch  17 Batch   11/17   train_loss = 4.071\n",
      "Epoch  17 Batch   16/17   train_loss = 3.949\n",
      "Epoch  18 Batch    4/17   train_loss = 3.966\n",
      "Epoch  18 Batch    9/17   train_loss = 3.864\n",
      "Epoch  18 Batch   14/17   train_loss = 3.744\n",
      "Epoch  19 Batch    2/17   train_loss = 3.795\n",
      "Epoch  19 Batch    7/17   train_loss = 3.826\n",
      "Epoch  19 Batch   12/17   train_loss = 3.685\n",
      "Epoch  20 Batch    0/17   train_loss = 3.550\n",
      "Epoch  20 Batch    5/17   train_loss = 3.542\n",
      "Epoch  20 Batch   10/17   train_loss = 3.653\n",
      "Epoch  20 Batch   15/17   train_loss = 3.427\n",
      "Epoch  21 Batch    3/17   train_loss = 3.588\n",
      "Epoch  21 Batch    8/17   train_loss = 3.468\n",
      "Epoch  21 Batch   13/17   train_loss = 3.435\n",
      "Epoch  22 Batch    1/17   train_loss = 3.409\n",
      "Epoch  22 Batch    6/17   train_loss = 3.285\n",
      "Epoch  22 Batch   11/17   train_loss = 3.332\n",
      "Epoch  22 Batch   16/17   train_loss = 3.258\n",
      "Epoch  23 Batch    4/17   train_loss = 3.314\n",
      "Epoch  23 Batch    9/17   train_loss = 3.200\n",
      "Epoch  23 Batch   14/17   train_loss = 3.062\n",
      "Epoch  24 Batch    2/17   train_loss = 3.192\n",
      "Epoch  24 Batch    7/17   train_loss = 3.178\n",
      "Epoch  24 Batch   12/17   train_loss = 3.051\n",
      "Epoch  25 Batch    0/17   train_loss = 2.921\n",
      "Epoch  25 Batch    5/17   train_loss = 2.915\n",
      "Epoch  25 Batch   10/17   train_loss = 2.947\n",
      "Epoch  25 Batch   15/17   train_loss = 2.803\n",
      "Epoch  26 Batch    3/17   train_loss = 2.929\n",
      "Epoch  26 Batch    8/17   train_loss = 2.816\n",
      "Epoch  26 Batch   13/17   train_loss = 2.713\n",
      "Epoch  27 Batch    1/17   train_loss = 2.752\n",
      "Epoch  27 Batch    6/17   train_loss = 2.658\n",
      "Epoch  27 Batch   11/17   train_loss = 2.638\n",
      "Epoch  27 Batch   16/17   train_loss = 2.572\n",
      "Epoch  28 Batch    4/17   train_loss = 2.572\n",
      "Epoch  28 Batch    9/17   train_loss = 2.561\n",
      "Epoch  28 Batch   14/17   train_loss = 2.333\n",
      "Epoch  29 Batch    2/17   train_loss = 2.517\n",
      "Epoch  29 Batch    7/17   train_loss = 2.482\n",
      "Epoch  29 Batch   12/17   train_loss = 2.436\n",
      "Epoch  30 Batch    0/17   train_loss = 2.191\n",
      "Epoch  30 Batch    5/17   train_loss = 2.346\n",
      "Epoch  30 Batch   10/17   train_loss = 2.375\n",
      "Epoch  30 Batch   15/17   train_loss = 2.191\n",
      "Epoch  31 Batch    3/17   train_loss = 2.330\n",
      "Epoch  31 Batch    8/17   train_loss = 2.259\n",
      "Epoch  31 Batch   13/17   train_loss = 2.256\n",
      "Epoch  32 Batch    1/17   train_loss = 2.228\n",
      "Epoch  32 Batch    6/17   train_loss = 2.195\n",
      "Epoch  32 Batch   11/17   train_loss = 2.195\n",
      "Epoch  32 Batch   16/17   train_loss = 2.206\n",
      "Epoch  33 Batch    4/17   train_loss = 2.055\n",
      "Epoch  33 Batch    9/17   train_loss = 2.163\n",
      "Epoch  33 Batch   14/17   train_loss = 1.987\n",
      "Epoch  34 Batch    2/17   train_loss = 2.142\n",
      "Epoch  34 Batch    7/17   train_loss = 2.023\n",
      "Epoch  34 Batch   12/17   train_loss = 2.052\n",
      "Epoch  35 Batch    0/17   train_loss = 1.827\n",
      "Epoch  35 Batch    5/17   train_loss = 1.857\n",
      "Epoch  35 Batch   10/17   train_loss = 1.852\n",
      "Epoch  35 Batch   15/17   train_loss = 1.760\n",
      "Epoch  36 Batch    3/17   train_loss = 1.842\n",
      "Epoch  36 Batch    8/17   train_loss = 1.739\n",
      "Epoch  36 Batch   13/17   train_loss = 1.644\n",
      "Epoch  37 Batch    1/17   train_loss = 1.716\n",
      "Epoch  37 Batch    6/17   train_loss = 1.594\n",
      "Epoch  37 Batch   11/17   train_loss = 1.598\n",
      "Epoch  37 Batch   16/17   train_loss = 1.557\n",
      "Epoch  38 Batch    4/17   train_loss = 1.510\n",
      "Epoch  38 Batch    9/17   train_loss = 1.542\n",
      "Epoch  38 Batch   14/17   train_loss = 1.378\n",
      "Epoch  39 Batch    2/17   train_loss = 1.493\n",
      "Epoch  39 Batch    7/17   train_loss = 1.420\n",
      "Epoch  39 Batch   12/17   train_loss = 1.410\n",
      "Epoch  40 Batch    0/17   train_loss = 1.282\n",
      "Epoch  40 Batch    5/17   train_loss = 1.328\n",
      "Epoch  40 Batch   10/17   train_loss = 1.288\n",
      "Epoch  40 Batch   15/17   train_loss = 1.250\n",
      "Epoch  41 Batch    3/17   train_loss = 1.396\n",
      "Epoch  41 Batch    8/17   train_loss = 1.261\n",
      "Epoch  41 Batch   13/17   train_loss = 1.205\n",
      "Epoch  42 Batch    1/17   train_loss = 1.307\n",
      "Epoch  42 Batch    6/17   train_loss = 1.234\n",
      "Epoch  42 Batch   11/17   train_loss = 1.228\n",
      "Epoch  42 Batch   16/17   train_loss = 1.236\n",
      "Epoch  43 Batch    4/17   train_loss = 1.197\n",
      "Epoch  43 Batch    9/17   train_loss = 1.218\n",
      "Epoch  43 Batch   14/17   train_loss = 1.137\n",
      "Epoch  44 Batch    2/17   train_loss = 1.255\n",
      "Epoch  44 Batch    7/17   train_loss = 1.202\n",
      "Epoch  44 Batch   12/17   train_loss = 1.129\n",
      "Epoch  45 Batch    0/17   train_loss = 1.052\n",
      "Epoch  45 Batch    5/17   train_loss = 1.154\n",
      "Epoch  45 Batch   10/17   train_loss = 1.078\n",
      "Epoch  45 Batch   15/17   train_loss = 1.013\n",
      "Epoch  46 Batch    3/17   train_loss = 1.166\n",
      "Epoch  46 Batch    8/17   train_loss = 1.076\n",
      "Epoch  46 Batch   13/17   train_loss = 1.016\n",
      "Epoch  47 Batch    1/17   train_loss = 1.086\n",
      "Epoch  47 Batch    6/17   train_loss = 1.076\n",
      "Epoch  47 Batch   11/17   train_loss = 0.983\n",
      "Epoch  47 Batch   16/17   train_loss = 1.064\n",
      "Epoch  48 Batch    4/17   train_loss = 0.990\n",
      "Epoch  48 Batch    9/17   train_loss = 1.059\n",
      "Epoch  48 Batch   14/17   train_loss = 0.910\n",
      "Epoch  49 Batch    2/17   train_loss = 1.052\n",
      "Epoch  49 Batch    7/17   train_loss = 1.017\n",
      "Epoch  49 Batch   12/17   train_loss = 0.951\n",
      "Epoch  50 Batch    0/17   train_loss = 0.886\n",
      "Epoch  50 Batch    5/17   train_loss = 0.942\n",
      "Epoch  50 Batch   10/17   train_loss = 0.921\n",
      "Epoch  50 Batch   15/17   train_loss = 0.834\n",
      "Epoch  51 Batch    3/17   train_loss = 0.962\n",
      "Epoch  51 Batch    8/17   train_loss = 0.901\n",
      "Epoch  51 Batch   13/17   train_loss = 0.900\n",
      "Epoch  52 Batch    1/17   train_loss = 0.875\n",
      "Epoch  52 Batch    6/17   train_loss = 0.894\n",
      "Epoch  52 Batch   11/17   train_loss = 0.826\n",
      "Epoch  52 Batch   16/17   train_loss = 0.892\n",
      "Epoch  53 Batch    4/17   train_loss = 0.780\n",
      "Epoch  53 Batch    9/17   train_loss = 0.874\n",
      "Epoch  53 Batch   14/17   train_loss = 0.726\n",
      "Epoch  54 Batch    2/17   train_loss = 0.845\n",
      "Epoch  54 Batch    7/17   train_loss = 0.792\n",
      "Epoch  54 Batch   12/17   train_loss = 0.748\n",
      "Epoch  55 Batch    0/17   train_loss = 0.640\n",
      "Epoch  55 Batch    5/17   train_loss = 0.718\n",
      "Epoch  55 Batch   10/17   train_loss = 0.655\n",
      "Epoch  55 Batch   15/17   train_loss = 0.615\n",
      "Epoch  56 Batch    3/17   train_loss = 0.654\n",
      "Epoch  56 Batch    8/17   train_loss = 0.639\n",
      "Epoch  56 Batch   13/17   train_loss = 0.566\n",
      "Epoch  57 Batch    1/17   train_loss = 0.601\n",
      "Epoch  57 Batch    6/17   train_loss = 0.572\n",
      "Epoch  57 Batch   11/17   train_loss = 0.524\n",
      "Epoch  57 Batch   16/17   train_loss = 0.553\n",
      "Epoch  58 Batch    4/17   train_loss = 0.503\n",
      "Epoch  58 Batch    9/17   train_loss = 0.543\n",
      "Epoch  58 Batch   14/17   train_loss = 0.458\n",
      "Epoch  59 Batch    2/17   train_loss = 0.518\n",
      "Epoch  59 Batch    7/17   train_loss = 0.491\n",
      "Epoch  59 Batch   12/17   train_loss = 0.447\n",
      "Epoch  60 Batch    0/17   train_loss = 0.399\n",
      "Epoch  60 Batch    5/17   train_loss = 0.443\n",
      "Epoch  60 Batch   10/17   train_loss = 0.393\n",
      "Epoch  60 Batch   15/17   train_loss = 0.380\n",
      "Epoch  61 Batch    3/17   train_loss = 0.408\n",
      "Epoch  61 Batch    8/17   train_loss = 0.411\n",
      "Epoch  61 Batch   13/17   train_loss = 0.346\n",
      "Epoch  62 Batch    1/17   train_loss = 0.405\n",
      "Epoch  62 Batch    6/17   train_loss = 0.375\n",
      "Epoch  62 Batch   11/17   train_loss = 0.347\n",
      "Epoch  62 Batch   16/17   train_loss = 0.355\n",
      "Epoch  63 Batch    4/17   train_loss = 0.364\n",
      "Epoch  63 Batch    9/17   train_loss = 0.382\n",
      "Epoch  63 Batch   14/17   train_loss = 0.335\n",
      "Epoch  64 Batch    2/17   train_loss = 0.374\n",
      "Epoch  64 Batch    7/17   train_loss = 0.387\n",
      "Epoch  64 Batch   12/17   train_loss = 0.317\n",
      "Epoch  65 Batch    0/17   train_loss = 0.320\n",
      "Epoch  65 Batch    5/17   train_loss = 0.330\n",
      "Epoch  65 Batch   10/17   train_loss = 0.334\n",
      "Epoch  65 Batch   15/17   train_loss = 0.283\n",
      "Epoch  66 Batch    3/17   train_loss = 0.341\n",
      "Epoch  66 Batch    8/17   train_loss = 0.335\n",
      "Epoch  66 Batch   13/17   train_loss = 0.298\n",
      "Epoch  67 Batch    1/17   train_loss = 0.316\n",
      "Epoch  67 Batch    6/17   train_loss = 0.315\n",
      "Epoch  67 Batch   11/17   train_loss = 0.296\n",
      "Epoch  67 Batch   16/17   train_loss = 0.291\n",
      "Epoch  68 Batch    4/17   train_loss = 0.291\n",
      "Epoch  68 Batch    9/17   train_loss = 0.318\n",
      "Epoch  68 Batch   14/17   train_loss = 0.300\n",
      "Epoch  69 Batch    2/17   train_loss = 0.309\n",
      "Epoch  69 Batch    7/17   train_loss = 0.322\n",
      "Epoch  69 Batch   12/17   train_loss = 0.275\n",
      "Epoch  70 Batch    0/17   train_loss = 0.288\n",
      "Epoch  70 Batch    5/17   train_loss = 0.269\n",
      "Epoch  70 Batch   10/17   train_loss = 0.294\n",
      "Epoch  70 Batch   15/17   train_loss = 0.255\n",
      "Epoch  71 Batch    3/17   train_loss = 0.303\n",
      "Epoch  71 Batch    8/17   train_loss = 0.286\n",
      "Epoch  71 Batch   13/17   train_loss = 0.254\n",
      "Epoch  72 Batch    1/17   train_loss = 0.288\n",
      "Epoch  72 Batch    6/17   train_loss = 0.280\n",
      "Epoch  72 Batch   11/17   train_loss = 0.262\n",
      "Epoch  72 Batch   16/17   train_loss = 0.257\n",
      "Epoch  73 Batch    4/17   train_loss = 0.253\n",
      "Epoch  73 Batch    9/17   train_loss = 0.277\n",
      "Epoch  73 Batch   14/17   train_loss = 0.237\n",
      "Epoch  74 Batch    2/17   train_loss = 0.269\n",
      "Epoch  74 Batch    7/17   train_loss = 0.246\n",
      "Epoch  74 Batch   12/17   train_loss = 0.232\n",
      "Epoch  75 Batch    0/17   train_loss = 0.213\n",
      "Epoch  75 Batch    5/17   train_loss = 0.227\n",
      "Epoch  75 Batch   10/17   train_loss = 0.214\n",
      "Epoch  75 Batch   15/17   train_loss = 0.199\n",
      "Epoch  76 Batch    3/17   train_loss = 0.198\n",
      "Epoch  76 Batch    8/17   train_loss = 0.214\n",
      "Epoch  76 Batch   13/17   train_loss = 0.172\n",
      "Epoch  77 Batch    1/17   train_loss = 0.198\n",
      "Epoch  77 Batch    6/17   train_loss = 0.193\n",
      "Epoch  77 Batch   11/17   train_loss = 0.174\n",
      "Epoch  77 Batch   16/17   train_loss = 0.172\n",
      "Epoch  78 Batch    4/17   train_loss = 0.159\n",
      "Epoch  78 Batch    9/17   train_loss = 0.193\n",
      "Epoch  78 Batch   14/17   train_loss = 0.153\n",
      "Epoch  79 Batch    2/17   train_loss = 0.187\n",
      "Epoch  79 Batch    7/17   train_loss = 0.164\n",
      "Epoch  79 Batch   12/17   train_loss = 0.154\n",
      "Epoch  80 Batch    0/17   train_loss = 0.148\n",
      "Epoch  80 Batch    5/17   train_loss = 0.155\n",
      "Epoch  80 Batch   10/17   train_loss = 0.151\n",
      "Epoch  80 Batch   15/17   train_loss = 0.135\n",
      "Epoch  81 Batch    3/17   train_loss = 0.148\n",
      "Epoch  81 Batch    8/17   train_loss = 0.161\n",
      "Epoch  81 Batch   13/17   train_loss = 0.129\n",
      "Epoch  82 Batch    1/17   train_loss = 0.150\n",
      "Epoch  82 Batch    6/17   train_loss = 0.153\n",
      "Epoch  82 Batch   11/17   train_loss = 0.138\n",
      "Epoch  82 Batch   16/17   train_loss = 0.136\n",
      "Epoch  83 Batch    4/17   train_loss = 0.130\n",
      "Epoch  83 Batch    9/17   train_loss = 0.160\n",
      "Epoch  83 Batch   14/17   train_loss = 0.134\n",
      "Epoch  84 Batch    2/17   train_loss = 0.151\n",
      "Epoch  84 Batch    7/17   train_loss = 0.144\n",
      "Epoch  84 Batch   12/17   train_loss = 0.126\n",
      "Epoch  85 Batch    0/17   train_loss = 0.132\n",
      "Epoch  85 Batch    5/17   train_loss = 0.132\n",
      "Epoch  85 Batch   10/17   train_loss = 0.129\n",
      "Epoch  85 Batch   15/17   train_loss = 0.120\n",
      "Epoch  86 Batch    3/17   train_loss = 0.130\n",
      "Epoch  86 Batch    8/17   train_loss = 0.138\n",
      "Epoch  86 Batch   13/17   train_loss = 0.109\n",
      "Epoch  87 Batch    1/17   train_loss = 0.126\n",
      "Epoch  87 Batch    6/17   train_loss = 0.134\n",
      "Epoch  87 Batch   11/17   train_loss = 0.117\n",
      "Epoch  87 Batch   16/17   train_loss = 0.117\n",
      "Epoch  88 Batch    4/17   train_loss = 0.109\n",
      "Epoch  88 Batch    9/17   train_loss = 0.137\n",
      "Epoch  88 Batch   14/17   train_loss = 0.113\n",
      "Epoch  89 Batch    2/17   train_loss = 0.130\n",
      "Epoch  89 Batch    7/17   train_loss = 0.121\n",
      "Epoch  89 Batch   12/17   train_loss = 0.110\n",
      "Epoch  90 Batch    0/17   train_loss = 0.114\n",
      "Epoch  90 Batch    5/17   train_loss = 0.109\n",
      "Epoch  90 Batch   10/17   train_loss = 0.110\n",
      "Epoch  90 Batch   15/17   train_loss = 0.101\n",
      "Epoch  91 Batch    3/17   train_loss = 0.114\n",
      "Epoch  91 Batch    8/17   train_loss = 0.122\n",
      "Epoch  91 Batch   13/17   train_loss = 0.096\n",
      "Epoch  92 Batch    1/17   train_loss = 0.113\n",
      "Epoch  92 Batch    6/17   train_loss = 0.119\n",
      "Epoch  92 Batch   11/17   train_loss = 0.107\n",
      "Epoch  92 Batch   16/17   train_loss = 0.104\n",
      "Epoch  93 Batch    4/17   train_loss = 0.100\n",
      "Epoch  93 Batch    9/17   train_loss = 0.123\n",
      "Epoch  93 Batch   14/17   train_loss = 0.105\n",
      "Epoch  94 Batch    2/17   train_loss = 0.118\n",
      "Epoch  94 Batch    7/17   train_loss = 0.112\n",
      "Epoch  94 Batch   12/17   train_loss = 0.102\n",
      "Epoch  95 Batch    0/17   train_loss = 0.108\n",
      "Epoch  95 Batch    5/17   train_loss = 0.101\n",
      "Epoch  95 Batch   10/17   train_loss = 0.102\n",
      "Epoch  95 Batch   15/17   train_loss = 0.096\n",
      "Epoch  96 Batch    3/17   train_loss = 0.108\n",
      "Epoch  96 Batch    8/17   train_loss = 0.116\n",
      "Epoch  96 Batch   13/17   train_loss = 0.091\n",
      "Epoch  97 Batch    1/17   train_loss = 0.107\n",
      "Epoch  97 Batch    6/17   train_loss = 0.114\n",
      "Epoch  97 Batch   11/17   train_loss = 0.102\n",
      "Epoch  97 Batch   16/17   train_loss = 0.098\n",
      "Epoch  98 Batch    4/17   train_loss = 0.095\n",
      "Epoch  98 Batch    9/17   train_loss = 0.116\n",
      "Epoch  98 Batch   14/17   train_loss = 0.101\n",
      "Epoch  99 Batch    2/17   train_loss = 0.113\n",
      "Epoch  99 Batch    7/17   train_loss = 0.107\n",
      "Epoch  99 Batch   12/17   train_loss = 0.098\n",
      "Model Trained and Saved\n"
     ]
    }
   ],
   "source": [
    "\"\"\"\n",
    "DON'T MODIFY ANYTHING IN THIS CELL\n",
    "\"\"\"\n",
    "batches = get_batches(int_text, batch_size, seq_length)\n",
    "\n",
    "with tf.Session(graph=train_graph) as sess:\n",
    "    sess.run(tf.global_variables_initializer())\n",
    "\n",
    "    for epoch_i in range(num_epochs):\n",
    "        state = sess.run(initial_state, {input_text: batches[0][0]})\n",
    "\n",
    "        for batch_i, (x, y) in enumerate(batches):\n",
    "            feed = {\n",
    "                input_text: x,\n",
    "                targets: y,\n",
    "                initial_state: state,\n",
    "                lr: learning_rate}\n",
    "            train_loss, state, _ = sess.run([cost, final_state, train_op], feed)\n",
    "\n",
    "            # Show every <show_every_n_batches> batches\n",
    "            if (epoch_i * len(batches) + batch_i) % show_every_n_batches == 0:\n",
    "                print('Epoch {:>3} Batch {:>4}/{}   train_loss = {:.3f}'.format(\n",
    "                    epoch_i,\n",
    "                    batch_i,\n",
    "                    len(batches),\n",
    "                    train_loss))\n",
    "\n",
    "    # Save Model\n",
    "    saver = tf.train.Saver()\n",
    "    saver.save(sess, save_dir)\n",
    "    print('Model Trained and Saved')"
   ]
  },
  {
   "cell_type": "markdown",
   "metadata": {
    "deletable": true,
    "editable": true
   },
   "source": [
    "## Save Parameters\n",
    "Save `seq_length` and `save_dir` for generating a new TV script."
   ]
  },
  {
   "cell_type": "code",
   "execution_count": 56,
   "metadata": {
    "collapsed": true,
    "deletable": true,
    "editable": true
   },
   "outputs": [],
   "source": [
    "\"\"\"\n",
    "DON'T MODIFY ANYTHING IN THIS CELL\n",
    "\"\"\"\n",
    "# Save parameters for checkpoint\n",
    "helper.save_params((seq_length, save_dir))"
   ]
  },
  {
   "cell_type": "markdown",
   "metadata": {
    "deletable": true,
    "editable": true
   },
   "source": [
    "# Checkpoint"
   ]
  },
  {
   "cell_type": "code",
   "execution_count": 58,
   "metadata": {
    "collapsed": true,
    "deletable": true,
    "editable": true
   },
   "outputs": [],
   "source": [
    "\"\"\"\n",
    "DON'T MODIFY ANYTHING IN THIS CELL\n",
    "\"\"\"\n",
    "import tensorflow as tf\n",
    "import numpy as np\n",
    "import helper\n",
    "import problem_unittests as tests\n",
    "\n",
    "_, vocab_to_int, int_to_vocab, token_dict = helper.load_preprocess()\n",
    "seq_length, load_dir = helper.load_params()"
   ]
  },
  {
   "cell_type": "markdown",
   "metadata": {
    "deletable": true,
    "editable": true
   },
   "source": [
    "## Implement Generate Functions\n",
    "### Get Tensors\n",
    "Get tensors from `loaded_graph` using the function [`get_tensor_by_name()`](https://www.tensorflow.org/api_docs/python/tf/Graph#get_tensor_by_name).  Get the tensors using the following names:\n",
    "- \"input:0\"\n",
    "- \"initial_state:0\"\n",
    "- \"final_state:0\"\n",
    "- \"probs:0\"\n",
    "\n",
    "Return the tensors in the following tuple `(InputTensor, InitialStateTensor, FinalStateTensor, ProbsTensor)` "
   ]
  },
  {
   "cell_type": "code",
   "execution_count": 60,
   "metadata": {
    "collapsed": false,
    "deletable": true,
    "editable": true
   },
   "outputs": [
    {
     "name": "stdout",
     "output_type": "stream",
     "text": [
      "Tests Passed\n"
     ]
    }
   ],
   "source": [
    "def get_tensors(loaded_graph):\n",
    "    \"\"\"\n",
    "    Get input, initial state, final state, and probabilities tensor from <loaded_graph>\n",
    "    :param loaded_graph: TensorFlow graph loaded from file\n",
    "    :return: Tuple (InputTensor, InitialStateTensor, FinalStateTensor, ProbsTensor)\n",
    "    \"\"\"\n",
    "    # TODO: Implement Function\n",
    "    InputsTensor = loaded_graph.get_tensor_by_name('input:0')\n",
    "    InitialStateTensor = loaded_graph.get_tensor_by_name('initial_state:0')\n",
    "    FinalStateTensor = loaded_graph.get_tensor_by_name('final_state:0')\n",
    "    ProbsTensor = loaded_graph.get_tensor_by_name('probs:0')\n",
    "    \n",
    "    return InputsTensor, InitialStateTensor, FinalStateTensor, ProbsTensor\n",
    "\n",
    "\n",
    "\"\"\"\n",
    "DON'T MODIFY ANYTHING IN THIS CELL THAT IS BELOW THIS LINE\n",
    "\"\"\"\n",
    "tests.test_get_tensors(get_tensors)"
   ]
  },
  {
   "cell_type": "markdown",
   "metadata": {
    "deletable": true,
    "editable": true
   },
   "source": [
    "### Choose Word\n",
    "Implement the `pick_word()` function to select the next word using `probabilities`."
   ]
  },
  {
   "cell_type": "code",
   "execution_count": 61,
   "metadata": {
    "collapsed": false,
    "deletable": true,
    "editable": true
   },
   "outputs": [
    {
     "name": "stdout",
     "output_type": "stream",
     "text": [
      "Tests Passed\n"
     ]
    }
   ],
   "source": [
    "def pick_word(probabilities, int_to_vocab):\n",
    "    \"\"\"\n",
    "    Pick the next word in the generated text\n",
    "    :param probabilities: Probabilites of the next word\n",
    "    :param int_to_vocab: Dictionary of word ids as the keys and words as the values\n",
    "    :return: String of the predicted word\n",
    "    \"\"\"\n",
    "    # TODO: Implement Function\n",
    "    word_id = np.argmax(probabilities)\n",
    "    \n",
    "    return int_to_vocab[word_id]\n",
    "\n",
    "\n",
    "\"\"\"\n",
    "DON'T MODIFY ANYTHING IN THIS CELL THAT IS BELOW THIS LINE\n",
    "\"\"\"\n",
    "tests.test_pick_word(pick_word)"
   ]
  },
  {
   "cell_type": "markdown",
   "metadata": {
    "deletable": true,
    "editable": true
   },
   "source": [
    "## Generate TV Script\n",
    "This will generate the TV script for you.  Set `gen_length` to the length of TV script you want to generate."
   ]
  },
  {
   "cell_type": "code",
   "execution_count": 62,
   "metadata": {
    "collapsed": false,
    "deletable": true,
    "editable": true
   },
   "outputs": [
    {
     "name": "stdout",
     "output_type": "stream",
     "text": [
      "moe_szyslak:(into phone) moe's tavern. where the elite meet to drink.\n",
      "bart_simpson: eh, yeah, hello, is mike there? last name, rotch, is this thing.\n",
      "lenny_leonard: hey, i lost this.\n",
      "moe_szyslak: hey, homer.\n",
      "homer_simpson: oh, looks like i ain't gimme an idea, but i don't wanna win so a good friend. she really really too?\n",
      "homer_simpson: i already too.\n",
      "moe_szyslak: well, the greatest...\n",
      "moe_szyslak: yeah, no, that's the old job do, homer?(thrust) yeah, that's great, would i done to the story, didn't i?\n",
      "moe_szyslak: wha... uh, maybe i know, i just lost my beer.\n",
      "marge_simpson:(reading)\" strokkur sang a girl in here, which who?\n",
      "homer_simpson: this is all over.\n",
      "bender:(sighs) i got to get me?\n",
      "moe_szyslak: huh?!\n",
      "homer_simpson:(still dancing) sure!(laughs) you're here.\n",
      "moe_szyslak: eh, you know\n"
     ]
    }
   ],
   "source": [
    "gen_length = 200\n",
    "# homer_simpson, moe_szyslak, or Barney_Gumble\n",
    "prime_word = 'moe_szyslak'\n",
    "\n",
    "\"\"\"\n",
    "DON'T MODIFY ANYTHING IN THIS CELL THAT IS BELOW THIS LINE\n",
    "\"\"\"\n",
    "loaded_graph = tf.Graph()\n",
    "with tf.Session(graph=loaded_graph) as sess:\n",
    "    # Load saved model\n",
    "    loader = tf.train.import_meta_graph(load_dir + '.meta')\n",
    "    loader.restore(sess, load_dir)\n",
    "\n",
    "    # Get Tensors from loaded model\n",
    "    input_text, initial_state, final_state, probs = get_tensors(loaded_graph)\n",
    "\n",
    "    # Sentences generation setup\n",
    "    gen_sentences = [prime_word + ':']\n",
    "    prev_state = sess.run(initial_state, {input_text: np.array([[1]])})\n",
    "\n",
    "    # Generate sentences\n",
    "    for n in range(gen_length):\n",
    "        # Dynamic Input\n",
    "        dyn_input = [[vocab_to_int[word] for word in gen_sentences[-seq_length:]]]\n",
    "        dyn_seq_length = len(dyn_input[0])\n",
    "\n",
    "        # Get Prediction\n",
    "        probabilities, prev_state = sess.run(\n",
    "            [probs, final_state],\n",
    "            {input_text: dyn_input, initial_state: prev_state})\n",
    "        \n",
    "        pred_word = pick_word(probabilities[dyn_seq_length-1], int_to_vocab)\n",
    "\n",
    "        gen_sentences.append(pred_word)\n",
    "    \n",
    "    # Remove tokens\n",
    "    tv_script = ' '.join(gen_sentences)\n",
    "    for key, token in token_dict.items():\n",
    "        ending = ' ' if key in ['\\n', '(', '\"'] else ''\n",
    "        tv_script = tv_script.replace(' ' + token.lower(), key)\n",
    "    tv_script = tv_script.replace('\\n ', '\\n')\n",
    "    tv_script = tv_script.replace('( ', '(')\n",
    "        \n",
    "    print(tv_script)"
   ]
  },
  {
   "cell_type": "markdown",
   "metadata": {
    "deletable": true,
    "editable": true
   },
   "source": [
    "# The TV Script is Nonsensical\n",
    "It's ok if the TV script doesn't make any sense.  We trained on less than a megabyte of text.  In order to get good results, you'll have to use a smaller vocabulary or get more data.  Luckly there's more data!  As we mentioned in the begging of this project, this is a subset of [another dataset](https://www.kaggle.com/wcukierski/the-simpsons-by-the-data).  We didn't have you train on all the data, because that would take too long.  However, you are free to train your neural network on all the data.  After you complete the project, of course.\n",
    "# Submitting This Project\n",
    "When submitting this project, make sure to run all the cells before saving the notebook. Save the notebook file as \"dlnd_tv_script_generation.ipynb\" and save it as a HTML file under \"File\" -> \"Download as\". Include the \"helper.py\" and \"problem_unittests.py\" files in your submission."
   ]
  }
 ],
 "metadata": {
  "kernelspec": {
   "display_name": "Python 3",
   "language": "python",
   "name": "python3"
  },
  "language_info": {
   "codemirror_mode": {
    "name": "ipython",
    "version": 3
   },
   "file_extension": ".py",
   "mimetype": "text/x-python",
   "name": "python",
   "nbconvert_exporter": "python",
   "pygments_lexer": "ipython3",
   "version": "3.5.3"
  },
  "widgets": {
   "state": {},
   "version": "1.1.2"
  }
 },
 "nbformat": 4,
 "nbformat_minor": 1
}
